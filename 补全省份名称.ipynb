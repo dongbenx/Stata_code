{
 "cells": [
  {
   "cell_type": "code",
   "execution_count": 1,
   "id": "d7cdefa8-d503-40a3-be73-e3890d223ff3",
   "metadata": {},
   "outputs": [],
   "source": [
    "import pandas as pd\n",
    "\n",
    "# 定义地区简称和完整名称的映射字典\n",
    "province_mapping = {\n",
    "    '北京': '北京市', '天津': '天津市', '河北': '河北省', '山西': '山西省', '内蒙古': '内蒙古自治区', \n",
    "    '辽宁': '辽宁省', '吉林': '吉林省', '黑龙江': '黑龙江省', '上海': '上海市', '江苏': '江苏省', \n",
    "    '浙江': '浙江省', '安徽': '安徽省', '福建': '福建省', '江西': '江西省', '山东': '山东省', \n",
    "    '河南': '河南省', '湖北': '湖北省', '湖南': '湖南省', '广东': '广东省', '广西': '广西壮族自治区', \n",
    "    '海南': '海南省', '重庆': '重庆市', '四川': '四川省', '贵州': '贵州省', '云南': '云南省', \n",
    "    '西藏': '西藏自治区', '陕西': '陕西省', '甘肃': '甘肃省', '青海': '青海省', '宁夏': '宁夏回族自治区', \n",
    "    '新疆': '新疆维吾尔自治区'\n",
    "}\n",
    "\n",
    "# 读取Excel文件\n",
    "df = pd.read_excel('/Users/zhuyenan/Desktop/工作簿3.xlsx')\n",
    "\n",
    "# 假设Excel表格中有一个列名为 'region_abbr' 存储地区简称（如“北京”）\n",
    "df['地区'] = df['地区'].map(province_mapping)\n",
    "\n",
    "# 将结果保存回Excel文件\n",
    "df.to_excel('output_with_full_provinces.xlsx', index=False)\n"
   ]
  },
  {
   "cell_type": "code",
   "execution_count": null,
   "id": "a53afc67-85bc-4e00-bee2-077f8e7adb90",
   "metadata": {},
   "outputs": [],
   "source": []
  }
 ],
 "metadata": {
  "kernelspec": {
   "display_name": "Python [conda env:base] *",
   "language": "python",
   "name": "conda-base-py"
  },
  "language_info": {
   "codemirror_mode": {
    "name": "ipython",
    "version": 3
   },
   "file_extension": ".py",
   "mimetype": "text/x-python",
   "name": "python",
   "nbconvert_exporter": "python",
   "pygments_lexer": "ipython3",
   "version": "3.12.7"
  }
 },
 "nbformat": 4,
 "nbformat_minor": 5
}
